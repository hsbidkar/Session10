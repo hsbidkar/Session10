{
 "cells": [
  {
   "cell_type": "markdown",
   "metadata": {},
   "source": [
    "# Assignment 10\n",
    "## Task 1\n",
    "### 1.1 : Blood glucose levels for obese patients have a mean of 100 with a standard deviation of 15. A researcher thinks that a diet high in raw cornstarch will have a positive effect on blood glucose levels. A sample of 36 patients who have tried the raw cornstarch diet have a mean glucose level of 108. Test the hypothesis that the raw cornstarch had an effect or not."
   ]
  },
  {
   "cell_type": "code",
   "execution_count": 3,
   "metadata": {},
   "outputs": [
    {
     "name": "stdout",
     "output_type": "stream",
     "text": [
      "3.2\n"
     ]
    }
   ],
   "source": [
    "pop_mean=100\n",
    "sample_mean=108\n",
    "std_dev=15\n",
    "sample=36\n",
    "#Let assume Null H0:mean=100 & Not-Null H1:mean>100\n",
    "#Now, Z = (sample_mean - pop_mean)/(std_dev * sqrt(sample))\n",
    "import math\n",
    "zscore=(sample_mean - pop_mean)/(std_dev / math.sqrt(sample))\n",
    "print(zscore)\n",
    "#Therefore, p-value as per Z-table for 3.2 is 0.9993 i.e. probability of having value less than 108 is 0.9993 \n",
    "#and more than or equals to 108 is (1-0.9993)=0.0007.\n",
    "#Considering the significance level at 5%, we have p-value lesser than alpha level.\n",
    "#Therefore we will safely reject the null hypothesis suggesting there is raw cornstarch effect"
   ]
  },
  {
   "cell_type": "markdown",
   "metadata": {},
   "source": [
    "### 1.2 : In one state, 52% of the voters are Republicans, and 48% are Democrats. In a second state,47% of the voters are Republicans, and 53% are Democrats. Suppose a simple random sample of 100 voters are surveyed from each state. What is the probability that the survey will show a greater percentage of Republican voters in the second state than in the first state?"
   ]
  },
  {
   "cell_type": "code",
   "execution_count": 4,
   "metadata": {},
   "outputs": [
    {
     "name": "stdout",
     "output_type": "stream",
     "text": [
      "Mean prob for Republican:0.050000000000000044\n",
      "Mean prob for Democratic:-0.050000000000000044\n",
      "Std_dev:0.07061869440877536\n",
      "Zscore:-0.7080278164104213\n"
     ]
    }
   ],
   "source": [
    "s1r=52\n",
    "s1d=48\n",
    "s1=s1r+s1d\n",
    "s2r=47\n",
    "s2d=53\n",
    "s2=s2r+s2d\n",
    "\n",
    "#probabilities of states w.r.t party\n",
    "prob_s1r=s1r/s1\n",
    "prob_s1d=s1d/s1\n",
    "prob_s2r=s2r/s2\n",
    "prob_s2d=s2d/s2\n",
    "\n",
    "#Mean probabilities of sample w.r.t party\n",
    "mu_rep=prob_s1r - prob_s2r\n",
    "mu_dem=prob_s1d - prob_s2d\n",
    "print(\"Mean prob for Republican:{}\".format(mu_rep))\n",
    "print(\"Mean prob for Democratic:{}\".format(mu_dem))\n",
    "#std deviation for sample of 100\n",
    "std_dev=math.sqrt(((prob_s1r * prob_s1d ) / 100) + ((prob_s2r * prob_s2d) /100))\n",
    "print(\"Std_dev:{}\".format(std_dev))\n",
    "#zscore that republican voters from state2 > state1 i.e. state1-state2<0\n",
    "zscore= -mu_rep/std_dev\n",
    "print(\"Zscore:{}\".format(zscore))\n",
    "\n",
    "##Therefore, p-value as per Z-table for -0.7080 is 0.242\n",
    "## i.e. probability that republican voters from state2 > state1 is 0.242"
   ]
  },
  {
   "cell_type": "markdown",
   "metadata": {},
   "source": [
    "### 1.3 : You take the SAT and score 1100. The mean score for the SAT is 1026 and the standard deviation is 209. How well did you score on the test compared to the average test taker?"
   ]
  },
  {
   "cell_type": "code",
   "execution_count": 5,
   "metadata": {},
   "outputs": [
    {
     "name": "stdout",
     "output_type": "stream",
     "text": [
      "0.35406698564593303\n"
     ]
    }
   ],
   "source": [
    "pop_mean=1026\n",
    "sample_mean=1100\n",
    "std_dev=209\n",
    "sample=1 # since we are comparing for single person\n",
    "#Now, Z = (sample_mean - pop_mean)/(std_dev * sqrt(sample))\n",
    "\n",
    "import math\n",
    "zscore=(sample_mean - pop_mean)/(std_dev / math.sqrt(sample))\n",
    "print(zscore)\n",
    "\n",
    "#zscore is 0.354 i.e. p-value is 0.6368 meaning you have scored 13.6% more than mean score"
   ]
  },
  {
   "cell_type": "markdown",
   "metadata": {},
   "source": [
    "## Task 2\n",
    "### 2.1 : Is gender independent of education level? A random sample of 395 people were surveyed and each person was asked to report the highest education level they obtained. The data that resulted from the survey is summarized in the following table:\n",
    "|Sex|High School|Bachelors|Masters|Ph.d.|Total|\n",
    "|------|------|------|------|------|------|\n",
    "|Female|60 |54|46|41|201|\n",
    "|Male|40|44|53|57|194|\n",
    "|Total|100|98|99|98|395|\n",
    "\n",
    "### Question: Are gender and education level dependent at 5% level of significance? In other words, given the data collected above, is there a relationship between the gender of an individual and the level of education that they have obtained?"
   ]
  },
  {
   "cell_type": "code",
   "execution_count": 61,
   "metadata": {},
   "outputs": [
    {
     "name": "stdout",
     "output_type": "stream",
     "text": [
      "ChiSquare_value: 8.006066246262538\n",
      "Critical_value: 7.814727903251179\n",
      "P_value : 0.04588650089174717\n"
     ]
    }
   ],
   "source": [
    "import pandas as pd\n",
    "import numpy as np\n",
    "import scipy.stats as stat \n",
    "ind=['Female','Male','col_total']\n",
    "df = pd.DataFrame({\"HS\":[60,40,100],\"Bach\":[54,44,98],\"Mas\":[46,53,99],\"Phd\":[41,57,98],\\\n",
    "                   \"row_total\":[201,194,395]},index=ind)\n",
    "observed = pd.DataFrame(df.iloc[0:2,0:4],index=ind[0:2])\n",
    "expect_arr = np.outer(df[\"row_total\"][0:2],df.loc[\"col_total\"][0:4]) / 395.0\n",
    "expected = pd.DataFrame(expect_arr,index=ind[0:2],columns=df.columns[0:4])\n",
    "chi_sqr_value = (((observed-expected)**2)/expected).sum().sum()\n",
    "crit = stat.chi2.ppf(q = 0.95, df = 3)   #observed.shape is 2x4 so degree_of_freedom i.e. df=1x3=3\n",
    "pval = 1 - stat.chi2.cdf(x=chi_sqr_value,df=3)\n",
    "print(\"ChiSquare_value: {}\".format(chi_sqr_value))\n",
    "print(\"Critical_value: {}\".format(crit))\n",
    "print(\"P_value : {}\".format(pval))\n",
    "\n",
    "# Since the critical value with 3 degree of freedom is 7.815 &  Chisquare_value > critical value,\n",
    "# therefore we reject the null hypothesis and \n",
    "# conclude that the education level depends on gender at a 5% level of significance"
   ]
  },
  {
   "cell_type": "markdown",
   "metadata": {},
   "source": [
    "### 2.2 : Using the following data, perform a oneway analysis of variance using α=.05. Write up the results in APA format.\n",
    "`[Group1: 51, 45, 33, 45, 67]`\n",
    "`[Group2: 23, 43, 23, 43, 45]`\n",
    "`[Group3: 56, 76, 74, 87, 56]`"
   ]
  },
  {
   "cell_type": "code",
   "execution_count": 75,
   "metadata": {},
   "outputs": [
    {
     "name": "stdout",
     "output_type": "stream",
     "text": [
      "F Statistic value : 9.747205503009463 , p-value : 0.0030597541434430556\n",
      "The groups don't have the same sample mean varience\n"
     ]
    }
   ],
   "source": [
    "import scipy.stats as stats\n",
    "Group1 = [51, 45, 33, 45, 67]\n",
    "Group2 = [23, 43, 23, 43, 45]\n",
    "Group3 = [56, 76, 74, 87, 56]\n",
    "# Perform the one way anova\n",
    "statistic, pvalue = stats.f_oneway(Group1,Group2,Group3)\n",
    "print(\"F Statistic value : {} , p-value : {}\".format(statistic,pvalue))\n",
    "if pvalue < 0.05:\n",
    "    print(\"The groups don't have the same sample mean varience\")\n",
    "else:\n",
    "    print('The groups have the same sample mean varience')"
   ]
  },
  {
   "cell_type": "markdown",
   "metadata": {},
   "source": [
    "### 2.3 : Calculate F Test for given 10,20,30,40,50 and 5,10,15,20,25. For 10, 20, 30, 40, 50:"
   ]
  },
  {
   "cell_type": "code",
   "execution_count": 74,
   "metadata": {},
   "outputs": [
    {
     "name": "stdout",
     "output_type": "stream",
     "text": [
      "0    4.0\n",
      "dtype: float64\n"
     ]
    }
   ],
   "source": [
    "import pandas as pd\n",
    "g1 = [10,20,30,40,50]\n",
    "g2 = [5,10,15,20,25]\n",
    "\n",
    "g1=pd.DataFrame(g1).var()\n",
    "g2=pd.DataFrame(g2).var()\n",
    "print(g1/g2)\n",
    "\n",
    "#F Test value is 4.0"
   ]
  }
 ],
 "metadata": {
  "kernelspec": {
   "display_name": "Python 3",
   "language": "python",
   "name": "python3"
  },
  "language_info": {
   "codemirror_mode": {
    "name": "ipython",
    "version": 3
   },
   "file_extension": ".py",
   "mimetype": "text/x-python",
   "name": "python",
   "nbconvert_exporter": "python",
   "pygments_lexer": "ipython3",
   "version": "3.6.6"
  }
 },
 "nbformat": 4,
 "nbformat_minor": 2
}
